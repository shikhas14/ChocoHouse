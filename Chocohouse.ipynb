{
  "nbformat": 4,
  "nbformat_minor": 0,
  "metadata": {
    "colab": {
      "provenance": []
    },
    "kernelspec": {
      "name": "python3",
      "display_name": "Python 3"
    },
    "language_info": {
      "name": "python"
    }
  },
  "cells": [
    {
      "cell_type": "code",
      "execution_count": 1,
      "metadata": {
        "id": "b56VGBAZivlh"
      },
      "outputs": [],
      "source": [
        "import sqlite3\n",
        "\n",
        "conn = sqlite3.connect(\"chocolate_house.db\")\n",
        "cursor = conn.cursor()"
      ]
    },
    {
      "cell_type": "code",
      "source": [
        "\n",
        "def create_tables():\n",
        "    cursor.execute(\"\"\"\n",
        "    CREATE TABLE IF NOT EXISTS s_f (\n",
        "        id INTEGER PRIMARY KEY AUTOINCREMENT,\n",
        "        flavor_name TEXT NOT NULL,\n",
        "        description TEXT,\n",
        "        season TEXT NOT NULL\n",
        "    )\n",
        "    \"\"\")\n",
        "\n",
        "    cursor.execute(\"\"\"\n",
        "    CREATE TABLE IF NOT EXISTS i_invent (\n",
        "        id INTEGER PRIMARY KEY AUTOINCREMENT,\n",
        "        ingredient_name TEXT NOT NULL,\n",
        "        quantity_in_stock INTEGER NOT NULL,\n",
        "        unit TEXT NOT NULL\n",
        "    )\n",
        "    \"\"\")\n",
        "\n",
        "    cursor.execute(\"\"\"\n",
        "    CREATE TABLE IF NOT EXISTS c_f (\n",
        "        id INTEGER PRIMARY KEY AUTOINCREMENT,\n",
        "        customer_name TEXT NOT NULL,\n",
        "        flavor_suggestion TEXT,\n",
        "        allergy_concern TEXT\n",
        "    )\n",
        "    \"\"\")\n",
        "    conn.commit()\n",
        "    print(\"Tables created successfully.\")\n"
      ],
      "metadata": {
        "id": "7E2ISkMZiyEF"
      },
      "execution_count": 2,
      "outputs": []
    },
    {
      "cell_type": "code",
      "source": [
        "def add_s_f(flavor_name, description, season):\n",
        "    cursor.execute(\"\"\"\n",
        "    INSERT INTO s_f (flavor_name, description, season)\n",
        "    VALUES (?, ?, ?)\n",
        "    \"\"\", (flavor_name, description, season))\n",
        "    conn.commit()\n",
        "    print(f\"Seasonal flavor '{flavor_name}' added.\")\n",
        "def add_in(ingredient_name, quantity_in_stock, unit):\n",
        "    cursor.execute(\"\"\"\n",
        "    INSERT INTO i_invent (ingredient_name, quantity_in_stock, unit)\n",
        "    VALUES (?, ?, ?)\n",
        "    \"\"\", (ingredient_name, quantity_in_stock, unit))\n",
        "    conn.commit()\n",
        "    print(f\"Ingredient '{ingredient_name}' added.\")\n",
        "\n",
        "def add_c_f(customer_name, flavor_suggestion, allergy_concern):\n",
        "    cursor.execute(\"\"\"\n",
        "    INSERT INTO c_f (customer_name, flavor_suggestion, allergy_concern)\n",
        "    VALUES (?, ?, ?)\n",
        "    \"\"\", (customer_name, flavor_suggestion, allergy_concern))\n",
        "    conn.commit()\n",
        "    print(f\"Feedback from '{customer_name}' added.\")\n"
      ],
      "metadata": {
        "id": "V787Ja-mi0AA"
      },
      "execution_count": 3,
      "outputs": []
    },
    {
      "cell_type": "code",
      "source": [
        "def view_table(table_name):\n",
        "    cursor.execute(f\"SELECT * FROM {table_name}\")\n",
        "    rows = cursor.fetchall()\n",
        "    for row in rows:\n",
        "        print(row)\n",
        "\n",
        "def close_connection():\n",
        "    conn.close()\n",
        "    print(\"Connection closed.\")"
      ],
      "metadata": {
        "id": "uWK6ac-Ki5Bt"
      },
      "execution_count": 4,
      "outputs": []
    },
    {
      "cell_type": "code",
      "source": [
        "if __name__ == \"__main__\":\n",
        "    create_tables()\n",
        "\n",
        "    add_s_f(\"Gauva Delight\", \"Gauva-flavored chocolate with spices\", \"Fall\")\n",
        "    add_s_f(\"Choco Cherry\", \"Cherry-flavored dark chocolate\", \"Winter\")\n",
        "\n",
        "    add_in(\"Cocoa Butter\", 15, \"kg\")\n",
        "    add_in(\"Sugar\", 30, \"kg\")\n",
        "    add_in(\"Milk Powder\", 20, \"kg\")\n",
        "\n",
        "    add_c_f(\"Kaira\", \"More dark chocolate options\", \"Nut allergy\")\n",
        "    add_c_f(\"Naksh\", \"Lactose-free options\", \"Lactose intolerance\")\n",
        "\n",
        "    print(\"\\n--- Seasonal Flavors ---\")\n",
        "    view_table(\"s_f\")\n",
        "\n",
        "    print(\"\\n--- Ingredient Inventory ---\")\n",
        "    view_table(\"i_invent\")\n",
        "\n",
        "    print(\"\\n--- Customer Feedback ---\")\n",
        "    view_table(\"c_f\")\n",
        "\n",
        "    close_connection()"
      ],
      "metadata": {
        "colab": {
          "base_uri": "https://localhost:8080/"
        },
        "id": "ljqteWU0i9ae",
        "outputId": "e766ad51-3136-4d3b-f3e6-0915a45bd5c8"
      },
      "execution_count": 5,
      "outputs": [
        {
          "output_type": "stream",
          "name": "stdout",
          "text": [
            "Tables created successfully.\n",
            "Seasonal flavor 'Gauva Delight' added.\n",
            "Seasonal flavor 'Choco Cherry' added.\n",
            "Ingredient 'Cocoa Butter' added.\n",
            "Ingredient 'Sugar' added.\n",
            "Ingredient 'Milk Powder' added.\n",
            "Feedback from 'Kaira' added.\n",
            "Feedback from 'Naksh' added.\n",
            "\n",
            "--- Seasonal Flavors ---\n",
            "(1, 'Gauva Delight', 'Gauva-flavored chocolate with spices', 'Fall')\n",
            "(2, 'Choco Cherry', 'Cherry-flavored dark chocolate', 'Winter')\n",
            "\n",
            "--- Ingredient Inventory ---\n",
            "(1, 'Cocoa Butter', 15, 'kg')\n",
            "(2, 'Sugar', 30, 'kg')\n",
            "(3, 'Milk Powder', 20, 'kg')\n",
            "\n",
            "--- Customer Feedback ---\n",
            "(1, 'Kaira', 'More dark chocolate options', 'Nut allergy')\n",
            "(2, 'Naksh', 'Lactose-free options', 'Lactose intolerance')\n",
            "Connection closed.\n"
          ]
        }
      ]
    }
  ]
}